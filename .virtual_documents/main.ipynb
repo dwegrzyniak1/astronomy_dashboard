%load_ext autoreload
%autoreload 2


from data.apod import get_apod


nasa_key = st.secrets["NASA_API_KEY"]


get_apod(nasa_key)






