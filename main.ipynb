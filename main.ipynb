{
 "cells": [
  {
   "cell_type": "code",
   "execution_count": 42,
   "id": "22f1959c-5826-4d80-b2c8-a17d5da426f9",
   "metadata": {
    "scrolled": true
   },
   "outputs": [
    {
     "name": "stdout",
     "output_type": "stream",
     "text": [
      "The autoreload extension is already loaded. To reload it, use:\n",
      "  %reload_ext autoreload\n"
     ]
    }
   ],
   "source": [
    "%load_ext autoreload\n",
    "%autoreload 2"
   ]
  },
  {
   "cell_type": "code",
   "execution_count": 62,
   "id": "1370c867-5157-4984-9992-3f6d998b394c",
   "metadata": {},
   "outputs": [],
   "source": [
    "from data.apod import get_apod"
   ]
  },
  {
   "cell_type": "code",
   "execution_count": 87,
   "id": "97224eae-1f33-4fa1-a823-732d28bc7315",
   "metadata": {},
   "outputs": [],
   "source": [
    "nasa_key = st.secrets[\"NASA_API_KEY\"]"
   ]
  },
  {
   "cell_type": "code",
   "execution_count": 88,
   "id": "2f89e832-4dc2-4127-8b56-afc04dda649a",
   "metadata": {},
   "outputs": [
    {
     "data": {
      "text/plain": [
       "{'date': '2025-08-06',\n",
       " 'title': 'Meteor before Galaxy',\n",
       " 'explanation': \"What's that green streak in front of the Andromeda galaxy? A meteor. While photographing the Andromeda galaxy in 2016, near the peak of the Perseid Meteor Shower, a small pebble from deep space crossed right in front of our Milky Way Galaxy's far-distant companion. The small meteor took only a fraction of a second to pass through this 10-degree field.  The meteor flared several times while braking violently upon entering Earth's atmosphere.  The green color was created, at least in part, by the meteor's gas glowing as it vaporized. Although the exposure was timed to catch a Perseid meteor, the orientation of the imaged streak seems a better match to a meteor from the Southern Delta Aquariids, a meteor shower that peaked a few weeks earlier.  Not coincidentally, the Perseid Meteor Shower peaks next week, although this year the meteors will have to outshine a sky brightened by a nearly full moon.\",\n",
       " 'img_url': 'https://apod.nasa.gov/apod/image/2508/MeteorM31_hemmerich_1948.jpg'}"
      ]
     },
     "execution_count": 88,
     "metadata": {},
     "output_type": "execute_result"
    }
   ],
   "source": [
    "get_apod(nasa_key)"
   ]
  },
  {
   "cell_type": "code",
   "execution_count": null,
   "id": "e7f822ab-8110-423a-9a91-f55cf70c3e64",
   "metadata": {},
   "outputs": [],
   "source": []
  },
  {
   "cell_type": "code",
   "execution_count": null,
   "id": "2dd98aad-389b-4243-b098-69f61d407f5e",
   "metadata": {},
   "outputs": [],
   "source": []
  }
 ],
 "metadata": {
  "kernelspec": {
   "display_name": "Python 3 (ipykernel)",
   "language": "python",
   "name": "python3"
  },
  "language_info": {
   "codemirror_mode": {
    "name": "ipython",
    "version": 3
   },
   "file_extension": ".py",
   "mimetype": "text/x-python",
   "name": "python",
   "nbconvert_exporter": "python",
   "pygments_lexer": "ipython3",
   "version": "3.10.12"
  }
 },
 "nbformat": 4,
 "nbformat_minor": 5
}
