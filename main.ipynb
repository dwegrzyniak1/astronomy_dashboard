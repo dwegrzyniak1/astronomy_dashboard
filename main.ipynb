{
 "cells": [
  {
   "cell_type": "code",
   "execution_count": 42,
   "id": "22f1959c-5826-4d80-b2c8-a17d5da426f9",
   "metadata": {},
   "outputs": [
    {
     "name": "stdout",
     "output_type": "stream",
     "text": [
      "The autoreload extension is already loaded. To reload it, use:\n",
      "  %reload_ext autoreload\n"
     ]
    }
   ],
   "source": [
    "%load_ext autoreload\n",
    "%autoreload 2"
   ]
  },
  {
   "cell_type": "code",
   "execution_count": 62,
   "id": "1370c867-5157-4984-9992-3f6d998b394c",
   "metadata": {},
   "outputs": [],
   "source": [
    "import streamlit as st\n",
    "from data.apod import get_apod"
   ]
  },
  {
   "cell_type": "code",
   "execution_count": 63,
   "id": "97224eae-1f33-4fa1-a823-732d28bc7315",
   "metadata": {},
   "outputs": [],
   "source": [
    "nasa_key = st.secrets[\"NASA_API_KEY\"]"
   ]
  },
  {
   "cell_type": "code",
   "execution_count": 64,
   "id": "2f89e832-4dc2-4127-8b56-afc04dda649a",
   "metadata": {},
   "outputs": [
    {
     "name": "stdout",
     "output_type": "stream",
     "text": [
      "200\n",
      "{'copyright': '\\nAndrea Vanoni\\n', 'date': '2025-07-30', 'explanation': \"Our Sun frequently erupts in loops.  Hot solar plasma jumps off the Sun's surface into prominences, with the most common type of prominence being a simple loop.  The loop shape originates from the Sun's magnetic field, which is traced by spiraling electrons and protons.  Many loops into the Sun's lower corona are large enough to envelop the Earth and are stable enough to last days.  They commonly occur near active regions that also include dark sunspots.  The featured panel shows four loops, each of which was captured near the Sun's edge during 2024 and 2025. The images were taken by a personal telescope in Mantova, Italy and in a very specific color of light emitted primarily by hydrogen. Some solar prominences suddenly break open and eject particles into the Solar System, setting up a space weather sequence that can affect the skies and wires of Earth.    Jigsaw Universe: Astronomy Puzzle of the Day\", 'hdurl': 'https://apod.nasa.gov/apod/image/2507/SunLoops_Vanoni_1223.jpg', 'media_type': 'image', 'service_version': 'v1', 'title': 'Coronal Loops on the Sun', 'url': 'https://apod.nasa.gov/apod/image/2507/SunLoops_Vanoni_960.jpg'}\n"
     ]
    },
    {
     "data": {
      "text/plain": [
       "3"
      ]
     },
     "execution_count": 64,
     "metadata": {},
     "output_type": "execute_result"
    }
   ],
   "source": [
    "get_apod(nasa_key)"
   ]
  },
  {
   "cell_type": "code",
   "execution_count": null,
   "id": "e7f822ab-8110-423a-9a91-f55cf70c3e64",
   "metadata": {},
   "outputs": [],
   "source": []
  }
 ],
 "metadata": {
  "kernelspec": {
   "display_name": "Python 3 (ipykernel)",
   "language": "python",
   "name": "python3"
  },
  "language_info": {
   "codemirror_mode": {
    "name": "ipython",
    "version": 3
   },
   "file_extension": ".py",
   "mimetype": "text/x-python",
   "name": "python",
   "nbconvert_exporter": "python",
   "pygments_lexer": "ipython3",
   "version": "3.10.12"
  }
 },
 "nbformat": 4,
 "nbformat_minor": 5
}
